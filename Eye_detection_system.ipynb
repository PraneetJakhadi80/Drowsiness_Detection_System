{
 "cells": [
  {
   "cell_type": "code",
   "execution_count": 1,
   "id": "d37fef6b",
   "metadata": {},
   "outputs": [
    {
     "name": "stdout",
     "output_type": "stream",
     "text": [
      "Requirement already satisfied: opencv-python in c:\\users\\lenovo\\anaconda3\\lib\\site-packages (4.7.0.72)\n",
      "Requirement already satisfied: numpy>=1.19.3 in c:\\users\\lenovo\\anaconda3\\lib\\site-packages (from opencv-python) (1.23.5)\n",
      "Note: you may need to restart the kernel to use updated packages.\n"
     ]
    }
   ],
   "source": [
    "pip install opencv-python"
   ]
  },
  {
   "cell_type": "code",
   "execution_count": 2,
   "id": "604cf60d",
   "metadata": {},
   "outputs": [],
   "source": [
    "import os\n",
    "import numpy as np\n",
    "import tensorflow as tf\n",
    "from tensorflow.keras.preprocessing.image import ImageDataGenerator\n",
    "from tensorflow.keras.models import Sequential\n",
    "from tensorflow.keras.models import save_model\n",
    "from tensorflow.keras.layers import Conv2D, MaxPooling2D, Flatten, Dense\n",
    "import time\n",
    "import winsound\n",
    "import cv2"
   ]
  },
  {
   "cell_type": "code",
   "execution_count": 3,
   "id": "8f2afee6",
   "metadata": {},
   "outputs": [],
   "source": [
    "train_dir = 'data/train'\n",
    "test_dir = 'data/test'\n"
   ]
  },
  {
   "cell_type": "code",
   "execution_count": 4,
   "id": "9ec42eff",
   "metadata": {
    "scrolled": true
   },
   "outputs": [
    {
     "name": "stdout",
     "output_type": "stream",
     "text": [
      "Found 81675 images belonging to 2 classes.\n",
      "Found 3223 images belonging to 2 classes.\n"
     ]
    }
   ],
   "source": [
    "# Specify the target image size\n",
    "image_size = (64, 64)\n",
    "\n",
    "# Create a data generator for training data\n",
    "train_datagen = ImageDataGenerator(rescale=1./255)\n",
    "\n",
    "# Create a data generator for test data\n",
    "test_datagen = ImageDataGenerator(rescale=1./255)\n",
    "\n",
    "# Generate batches of training data from the train directory\n",
    "train_generator = train_datagen.flow_from_directory(\n",
    "    train_dir,\n",
    "    target_size=image_size,\n",
    "    batch_size=32,\n",
    "    class_mode='binary'\n",
    ")\n",
    "\n",
    "# Generate batches of test data from the test directory\n",
    "test_generator = test_datagen.flow_from_directory(\n",
    "    test_dir,\n",
    "    target_size=image_size,\n",
    "    batch_size=32,\n",
    "    class_mode='binary'\n",
    ")\n"
   ]
  },
  {
   "cell_type": "code",
   "execution_count": 5,
   "id": "a8c73fee",
   "metadata": {},
   "outputs": [],
   "source": [
    "model = Sequential()\n",
    "\n",
    "model.add(Conv2D(32, (3, 3), activation='relu', input_shape=(64, 64, 3)))\n",
    "model.add(MaxPooling2D((2, 2)))\n",
    "\n",
    "model.add(Conv2D(64, (3, 3), activation='relu'))\n",
    "model.add(MaxPooling2D((2, 2)))\n",
    "\n",
    "model.add(Conv2D(128, (3, 3), activation='relu'))\n",
    "model.add(MaxPooling2D((2, 2)))\n",
    "\n",
    "model.add(Flatten())\n",
    "\n",
    "model.add(Dense(128, activation='relu'))\n",
    "model.add(Dense(1, activation='sigmoid'))\n",
    "\n",
    "model.compile(optimizer='adam', loss='binary_crossentropy', metrics=['accuracy'])\n"
   ]
  },
  {
   "cell_type": "code",
   "execution_count": 6,
   "id": "6a345f34",
   "metadata": {},
   "outputs": [
    {
     "name": "stdout",
     "output_type": "stream",
     "text": [
      "Epoch 1/10\n",
      "2553/2553 [==============================] - 259s 101ms/step - loss: 0.1397 - accuracy: 0.9480 - val_loss: 0.3118 - val_accuracy: 0.8821\n",
      "Epoch 2/10\n",
      "2553/2553 [==============================] - 254s 100ms/step - loss: 0.0617 - accuracy: 0.9788 - val_loss: 0.1908 - val_accuracy: 0.9392\n",
      "Epoch 3/10\n",
      "2553/2553 [==============================] - 250s 98ms/step - loss: 0.0471 - accuracy: 0.9835 - val_loss: 0.2134 - val_accuracy: 0.9246\n",
      "Epoch 4/10\n",
      "2553/2553 [==============================] - 246s 96ms/step - loss: 0.0396 - accuracy: 0.9859 - val_loss: 0.2799 - val_accuracy: 0.9252\n",
      "Epoch 5/10\n",
      "2553/2553 [==============================] - 261s 102ms/step - loss: 0.0333 - accuracy: 0.9880 - val_loss: 0.2145 - val_accuracy: 0.9234\n",
      "Epoch 6/10\n",
      "2553/2553 [==============================] - 260s 102ms/step - loss: 0.0295 - accuracy: 0.9893 - val_loss: 0.2020 - val_accuracy: 0.9342\n",
      "Epoch 7/10\n",
      "2553/2553 [==============================] - 277s 108ms/step - loss: 0.0269 - accuracy: 0.9903 - val_loss: 0.2681 - val_accuracy: 0.9144\n",
      "Epoch 8/10\n",
      "2553/2553 [==============================] - 267s 104ms/step - loss: 0.0253 - accuracy: 0.9909 - val_loss: 0.2368 - val_accuracy: 0.9172\n",
      "Epoch 9/10\n",
      "2553/2553 [==============================] - 254s 100ms/step - loss: 0.0224 - accuracy: 0.9920 - val_loss: 0.2816 - val_accuracy: 0.9181\n",
      "Epoch 10/10\n",
      "2553/2553 [==============================] - 260s 102ms/step - loss: 0.0210 - accuracy: 0.9924 - val_loss: 0.2355 - val_accuracy: 0.9299\n"
     ]
    }
   ],
   "source": [
    "history = model.fit(\n",
    "    train_generator,\n",
    "    steps_per_epoch=len(train_generator),\n",
    "    epochs=10,\n",
    "    validation_data=test_generator,\n",
    "    validation_steps=len(test_generator)\n",
    ")\n"
   ]
  },
  {
   "cell_type": "code",
   "execution_count": 7,
   "id": "fb197f0b",
   "metadata": {},
   "outputs": [],
   "source": [
    "#saving\n",
    "save_model(model, r'C:\\Users\\lenovo\\Desktop\\Eye Detection\\model.h5')"
   ]
  },
  {
   "cell_type": "code",
   "execution_count": 1,
   "id": "566f2854",
   "metadata": {},
   "outputs": [
    {
     "ename": "NameError",
     "evalue": "name 'tf' is not defined",
     "output_type": "error",
     "traceback": [
      "\u001b[1;31m---------------------------------------------------------------------------\u001b[0m",
      "\u001b[1;31mNameError\u001b[0m                                 Traceback (most recent call last)",
      "Cell \u001b[1;32mIn[1], line 3\u001b[0m\n\u001b[0;32m      1\u001b[0m \u001b[38;5;66;03m# Load and preprocess the new image\u001b[39;00m\n\u001b[0;32m      2\u001b[0m new_image_path \u001b[38;5;241m=\u001b[39m \u001b[38;5;124m'\u001b[39m\u001b[38;5;124mdata/single_pred/close_or_open.png\u001b[39m\u001b[38;5;124m'\u001b[39m\n\u001b[1;32m----> 3\u001b[0m new_image \u001b[38;5;241m=\u001b[39m \u001b[43mtf\u001b[49m\u001b[38;5;241m.\u001b[39mkeras\u001b[38;5;241m.\u001b[39mpreprocessing\u001b[38;5;241m.\u001b[39mimage\u001b[38;5;241m.\u001b[39mload_img(new_image_path, target_size\u001b[38;5;241m=\u001b[39mimage_size)\n\u001b[0;32m      4\u001b[0m new_image \u001b[38;5;241m=\u001b[39m tf\u001b[38;5;241m.\u001b[39mkeras\u001b[38;5;241m.\u001b[39mpreprocessing\u001b[38;5;241m.\u001b[39mimage\u001b[38;5;241m.\u001b[39mimg_to_array(new_image)\n\u001b[0;32m      5\u001b[0m new_image \u001b[38;5;241m=\u001b[39m np\u001b[38;5;241m.\u001b[39mexpand_dims(new_image, axis\u001b[38;5;241m=\u001b[39m\u001b[38;5;241m0\u001b[39m)\n",
      "\u001b[1;31mNameError\u001b[0m: name 'tf' is not defined"
     ]
    }
   ],
   "source": [
    "# Load and preprocess the new image\n",
    "new_image_path = 'data/single_pred/close_or_open.png'\n",
    "new_image = tf.keras.preprocessing.image.load_img(new_image_path, target_size=image_size)\n",
    "new_image = tf.keras.preprocessing.image.img_to_array(new_image)\n",
    "new_image = np.expand_dims(new_image, axis=0)\n",
    "new_image = new_image / 255.0\n",
    "\n",
    "# Make the prediction\n",
    "prediction = model.predict(new_image)\n",
    "if prediction[0][0] >= 0.5:\n",
    "    print('The eye is open.')\n",
    "else:\n",
    "    print('The eye is closed.')\n"
   ]
  },
  {
   "cell_type": "code",
   "execution_count": null,
   "id": "fde05470",
   "metadata": {},
   "outputs": [],
   "source": []
  },
  {
   "cell_type": "code",
   "execution_count": null,
   "id": "a08a0b1f",
   "metadata": {},
   "outputs": [],
   "source": []
  },
  {
   "cell_type": "code",
   "execution_count": null,
   "id": "a53dd960",
   "metadata": {},
   "outputs": [],
   "source": []
  },
  {
   "cell_type": "code",
   "execution_count": null,
   "id": "547fddbd",
   "metadata": {},
   "outputs": [],
   "source": []
  }
 ],
 "metadata": {
  "kernelspec": {
   "display_name": "Python 3 (ipykernel)",
   "language": "python",
   "name": "python3"
  },
  "language_info": {
   "codemirror_mode": {
    "name": "ipython",
    "version": 3
   },
   "file_extension": ".py",
   "mimetype": "text/x-python",
   "name": "python",
   "nbconvert_exporter": "python",
   "pygments_lexer": "ipython3",
   "version": "3.10.9"
  }
 },
 "nbformat": 4,
 "nbformat_minor": 5
}
